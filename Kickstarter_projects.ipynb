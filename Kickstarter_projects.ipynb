{
 "metadata": {
  "language_info": {
   "codemirror_mode": {
    "name": "ipython",
    "version": 3
   },
   "file_extension": ".py",
   "mimetype": "text/x-python",
   "name": "python",
   "nbconvert_exporter": "python",
   "pygments_lexer": "ipython3",
   "version": "3.9.0-final"
  },
  "orig_nbformat": 2,
  "kernelspec": {
   "name": "python3",
   "display_name": "Python 3"
  }
 },
 "nbformat": 4,
 "nbformat_minor": 2,
 "cells": [
  {
   "source": [
    "# Mineração de dados - Kickstarter Projects\n",
    "\n",
    "Universidade do Vale do Taquari – Univates\n",
    "\n",
    "Inteligência Artificial 2020/B\n",
    "\n",
    "Autores: Arthur Meurer Saraiva, Marcelo Zerbieli Nicaretta e Matheus Michels"
   ],
   "cell_type": "markdown",
   "metadata": {}
  },
  {
   "source": [
    "## Seleção\n",
    "\n",
    "Usaremos a base de projetos do Kickstarter, o maior site de financiamento coletivo do mundo, para identificar os motivos do sucesso ou fracasso dos projetos.\n",
    "\n",
    "O Dataset está disponível na plataforma [Kaggle](https://www.kaggle.com/kemical/kickstarter-projects)."
   ],
   "cell_type": "markdown",
   "metadata": {}
  },
  {
   "cell_type": "code",
   "execution_count": 34,
   "metadata": {},
   "outputs": [
    {
     "output_type": "stream",
     "name": "stdout",
     "text": [
      "ID                    int64\nname                 object\ncategory             object\nmain_category        object\ncurrency             object\ndeadline             object\ngoal                float64\nlaunched             object\npledged             float64\nstate                object\nbackers               int64\ncountry              object\nusd pledged         float64\nusd_pledged_real    float64\nusd_goal_real       float64\ndtype: object\n"
     ]
    }
   ],
   "source": [
    "import pandas as pd\n",
    "pd.set_option('display.expand_frame_repr', False)\n",
    "\n",
    "projects = pd.read_csv('ks-projects-201801.csv')\n",
    "\n",
    "print(projects.dtypes)"
   ]
  },
  {
   "source": [
    "### Atributos\n",
    "Desta base de projetos usaremos os seguintes atributos:\n",
    "- main_category = área de atuação do projeto;\n",
    "- deadline = data limite para o objetivo ser alcançado;\n",
    "- goal = quantidade esperada de arrecadação para desenvolvimento do projeto (objetivo);\n",
    "- launched = data de lançamento do projeto na plataforma;\n",
    "- state = estado do projeto (sucesso, cancelamento, falha, em progresso e indefinido);\n",
    "- backers = número de doadores do projeto;\n",
    "- country = país dos autores da ideia;\n",
    "- usd_pledged = quantidade arrecadada convertida para dólares.\n",
    "\n",
    "Além disso, criaremos um novo atributo de duração do projeto:\n",
    "- duration = diferença entre deadline e launched."
   ],
   "cell_type": "markdown",
   "metadata": {}
  },
  {
   "cell_type": "code",
   "execution_count": 35,
   "metadata": {},
   "outputs": [
    {
     "output_type": "stream",
     "name": "stdout",
     "text": [
      "           ID main_category    deadline     goal             launched     state  backers country  usd_pledged\n0  1000002330    Publishing  2015-10-09   1000.0  2015-08-11 12:12:28    failed        0      GB          0.0\n1  1000003930  Film & Video  2017-11-01  30000.0  2017-09-02 04:43:57    failed       15      US        100.0\n2  1000004038  Film & Video  2013-02-26  45000.0  2013-01-12 00:20:50    failed        3      US        220.0\n3  1000007540         Music  2012-04-16   5000.0  2012-03-17 03:24:11    failed        1      US          1.0\n4  1000011046  Film & Video  2015-08-29  19500.0  2015-07-04 08:35:03  canceled       14      US       1283.0\n"
     ]
    }
   ],
   "source": [
    "projects = projects[['ID', 'main_category', 'deadline', 'goal', 'launched', 'state', 'backers', 'country', 'usd pledged']]\n",
    "projects.rename(columns={'usd pledged': 'usd_pledged'}, inplace=True)\n",
    "\n",
    "print(projects.head())"
   ]
  },
  {
   "cell_type": "code",
   "execution_count": 36,
   "metadata": {
    "tags": []
   },
   "outputs": [
    {
     "output_type": "stream",
     "name": "stdout",
     "text": [
      "Data types\nID                         int64\nmain_category             object\ndeadline                  object\ngoal                     float64\nlaunched                  object\nstate                     object\nbackers                    int64\ncountry                   object\nusd_pledged              float64\nduration         timedelta64[ns]\ndtype: object\n\nShape\n(378661, 10)\n\nHead\n           ID main_category    deadline     goal    launched     state  backers country  usd_pledged duration\n0  1000002330    Publishing  2015-10-09   1000.0  2015-08-11    failed        0      GB          0.0  59 days\n1  1000003930  Film & Video  2017-11-01  30000.0  2017-09-02    failed       15      US        100.0  60 days\n2  1000004038  Film & Video  2013-02-26  45000.0  2013-01-12    failed        3      US        220.0  45 days\n3  1000007540         Music  2012-04-16   5000.0  2012-03-17    failed        1      US          1.0  30 days\n4  1000011046  Film & Video  2015-08-29  19500.0  2015-07-04  canceled       14      US       1283.0  56 days\n"
     ]
    }
   ],
   "source": [
    "from datetime import datetime\n",
    "\n",
    "projects['deadline'] = [datetime.strptime(deadline, '%Y-%m-%d').date() for deadline in projects.deadline]\n",
    "projects['launched'] = [datetime.strptime(launched, '%Y-%m-%d %H:%M:%S').date() for launched in projects.launched]\n",
    "projects['duration'] = [deadline - launched for (deadline, launched) in zip(projects.deadline, projects.launched)]\n",
    "\n",
    "print(\"Data types\")\n",
    "print(projects.dtypes)\n",
    "print(\"\\nShape\")\n",
    "print(projects.shape)\n",
    "print(\"\\nHead\")\n",
    "print(projects.head())"
   ]
  },
  {
   "source": [
    "## Preparação dos dados\n"
   ],
   "cell_type": "markdown",
   "metadata": {}
  },
  {
   "source": [
    "### Visualização gráfica\n"
   ],
   "cell_type": "markdown",
   "metadata": {}
  },
  {
   "cell_type": "code",
   "execution_count": 37,
   "metadata": {},
   "outputs": [],
   "source": []
  }
 ]
}